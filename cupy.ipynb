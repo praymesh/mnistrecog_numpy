{
 "cells": [
  {
   "cell_type": "code",
   "execution_count": 1,
   "metadata": {},
   "outputs": [],
   "source": [
    "import torch\n",
    "import torch.nn as nn\n",
    "import torch.nn.functional as F\n",
    "import torch.optim as optim\n",
    "import numpy as np\n",
    "import random\n",
    "import pandas as pd\n",
    "import matplotlib.pyplot as plt\n"
   ]
  },
  {
   "cell_type": "code",
   "execution_count": 2,
   "metadata": {},
   "outputs": [
    {
     "ename": "KeyboardInterrupt",
     "evalue": "",
     "output_type": "error",
     "traceback": [
      "\u001b[1;31m---------------------------------------------------------------------------\u001b[0m",
      "\u001b[1;31mKeyboardInterrupt\u001b[0m                         Traceback (most recent call last)",
      "Cell \u001b[1;32mIn[2], line 1\u001b[0m\n\u001b[1;32m----> 1\u001b[0m data \u001b[38;5;241m=\u001b[39m \u001b[43mpd\u001b[49m\u001b[38;5;241;43m.\u001b[39;49m\u001b[43mread_csv\u001b[49m\u001b[43m(\u001b[49m\u001b[38;5;124;43m'\u001b[39;49m\u001b[38;5;124;43mtrain.csv\u001b[39;49m\u001b[38;5;124;43m'\u001b[39;49m\u001b[43m)\u001b[49m\n\u001b[0;32m      2\u001b[0m data\n",
      "File \u001b[1;32mc:\\Users\\prana\\anaconda3\\envs\\myenvt\\Lib\\site-packages\\pandas\\io\\parsers\\readers.py:1026\u001b[0m, in \u001b[0;36mread_csv\u001b[1;34m(filepath_or_buffer, sep, delimiter, header, names, index_col, usecols, dtype, engine, converters, true_values, false_values, skipinitialspace, skiprows, skipfooter, nrows, na_values, keep_default_na, na_filter, verbose, skip_blank_lines, parse_dates, infer_datetime_format, keep_date_col, date_parser, date_format, dayfirst, cache_dates, iterator, chunksize, compression, thousands, decimal, lineterminator, quotechar, quoting, doublequote, escapechar, comment, encoding, encoding_errors, dialect, on_bad_lines, delim_whitespace, low_memory, memory_map, float_precision, storage_options, dtype_backend)\u001b[0m\n\u001b[0;32m   1013\u001b[0m kwds_defaults \u001b[38;5;241m=\u001b[39m _refine_defaults_read(\n\u001b[0;32m   1014\u001b[0m     dialect,\n\u001b[0;32m   1015\u001b[0m     delimiter,\n\u001b[1;32m   (...)\u001b[0m\n\u001b[0;32m   1022\u001b[0m     dtype_backend\u001b[38;5;241m=\u001b[39mdtype_backend,\n\u001b[0;32m   1023\u001b[0m )\n\u001b[0;32m   1024\u001b[0m kwds\u001b[38;5;241m.\u001b[39mupdate(kwds_defaults)\n\u001b[1;32m-> 1026\u001b[0m \u001b[38;5;28;01mreturn\u001b[39;00m \u001b[43m_read\u001b[49m\u001b[43m(\u001b[49m\u001b[43mfilepath_or_buffer\u001b[49m\u001b[43m,\u001b[49m\u001b[43m \u001b[49m\u001b[43mkwds\u001b[49m\u001b[43m)\u001b[49m\n",
      "File \u001b[1;32mc:\\Users\\prana\\anaconda3\\envs\\myenvt\\Lib\\site-packages\\pandas\\io\\parsers\\readers.py:626\u001b[0m, in \u001b[0;36m_read\u001b[1;34m(filepath_or_buffer, kwds)\u001b[0m\n\u001b[0;32m    623\u001b[0m     \u001b[38;5;28;01mreturn\u001b[39;00m parser\n\u001b[0;32m    625\u001b[0m \u001b[38;5;28;01mwith\u001b[39;00m parser:\n\u001b[1;32m--> 626\u001b[0m     \u001b[38;5;28;01mreturn\u001b[39;00m \u001b[43mparser\u001b[49m\u001b[38;5;241;43m.\u001b[39;49m\u001b[43mread\u001b[49m\u001b[43m(\u001b[49m\u001b[43mnrows\u001b[49m\u001b[43m)\u001b[49m\n",
      "File \u001b[1;32mc:\\Users\\prana\\anaconda3\\envs\\myenvt\\Lib\\site-packages\\pandas\\io\\parsers\\readers.py:1923\u001b[0m, in \u001b[0;36mTextFileReader.read\u001b[1;34m(self, nrows)\u001b[0m\n\u001b[0;32m   1916\u001b[0m nrows \u001b[38;5;241m=\u001b[39m validate_integer(\u001b[38;5;124m\"\u001b[39m\u001b[38;5;124mnrows\u001b[39m\u001b[38;5;124m\"\u001b[39m, nrows)\n\u001b[0;32m   1917\u001b[0m \u001b[38;5;28;01mtry\u001b[39;00m:\n\u001b[0;32m   1918\u001b[0m     \u001b[38;5;66;03m# error: \"ParserBase\" has no attribute \"read\"\u001b[39;00m\n\u001b[0;32m   1919\u001b[0m     (\n\u001b[0;32m   1920\u001b[0m         index,\n\u001b[0;32m   1921\u001b[0m         columns,\n\u001b[0;32m   1922\u001b[0m         col_dict,\n\u001b[1;32m-> 1923\u001b[0m     ) \u001b[38;5;241m=\u001b[39m \u001b[38;5;28;43mself\u001b[39;49m\u001b[38;5;241;43m.\u001b[39;49m\u001b[43m_engine\u001b[49m\u001b[38;5;241;43m.\u001b[39;49m\u001b[43mread\u001b[49m\u001b[43m(\u001b[49m\u001b[43m  \u001b[49m\u001b[38;5;66;43;03m# type: ignore[attr-defined]\u001b[39;49;00m\n\u001b[0;32m   1924\u001b[0m \u001b[43m        \u001b[49m\u001b[43mnrows\u001b[49m\n\u001b[0;32m   1925\u001b[0m \u001b[43m    \u001b[49m\u001b[43m)\u001b[49m\n\u001b[0;32m   1926\u001b[0m \u001b[38;5;28;01mexcept\u001b[39;00m \u001b[38;5;167;01mException\u001b[39;00m:\n\u001b[0;32m   1927\u001b[0m     \u001b[38;5;28mself\u001b[39m\u001b[38;5;241m.\u001b[39mclose()\n",
      "File \u001b[1;32mc:\\Users\\prana\\anaconda3\\envs\\myenvt\\Lib\\site-packages\\pandas\\io\\parsers\\c_parser_wrapper.py:234\u001b[0m, in \u001b[0;36mCParserWrapper.read\u001b[1;34m(self, nrows)\u001b[0m\n\u001b[0;32m    232\u001b[0m \u001b[38;5;28;01mtry\u001b[39;00m:\n\u001b[0;32m    233\u001b[0m     \u001b[38;5;28;01mif\u001b[39;00m \u001b[38;5;28mself\u001b[39m\u001b[38;5;241m.\u001b[39mlow_memory:\n\u001b[1;32m--> 234\u001b[0m         chunks \u001b[38;5;241m=\u001b[39m \u001b[38;5;28;43mself\u001b[39;49m\u001b[38;5;241;43m.\u001b[39;49m\u001b[43m_reader\u001b[49m\u001b[38;5;241;43m.\u001b[39;49m\u001b[43mread_low_memory\u001b[49m\u001b[43m(\u001b[49m\u001b[43mnrows\u001b[49m\u001b[43m)\u001b[49m\n\u001b[0;32m    235\u001b[0m         \u001b[38;5;66;03m# destructive to chunks\u001b[39;00m\n\u001b[0;32m    236\u001b[0m         data \u001b[38;5;241m=\u001b[39m _concatenate_chunks(chunks)\n",
      "File \u001b[1;32mparsers.pyx:838\u001b[0m, in \u001b[0;36mpandas._libs.parsers.TextReader.read_low_memory\u001b[1;34m()\u001b[0m\n",
      "File \u001b[1;32mparsers.pyx:905\u001b[0m, in \u001b[0;36mpandas._libs.parsers.TextReader._read_rows\u001b[1;34m()\u001b[0m\n",
      "File \u001b[1;32mparsers.pyx:874\u001b[0m, in \u001b[0;36mpandas._libs.parsers.TextReader._tokenize_rows\u001b[1;34m()\u001b[0m\n",
      "File \u001b[1;32mparsers.pyx:891\u001b[0m, in \u001b[0;36mpandas._libs.parsers.TextReader._check_tokenize_status\u001b[1;34m()\u001b[0m\n",
      "File \u001b[1;32mparsers.pyx:2053\u001b[0m, in \u001b[0;36mpandas._libs.parsers.raise_parser_error\u001b[1;34m()\u001b[0m\n",
      "File \u001b[1;32m<frozen codecs>:331\u001b[0m, in \u001b[0;36mgetstate\u001b[1;34m(self)\u001b[0m\n",
      "\u001b[1;31mKeyboardInterrupt\u001b[0m: "
     ]
    }
   ],
   "source": [
    "data = pd.read_csv('train.csv')\n",
    "data"
   ]
  },
  {
   "cell_type": "code",
   "execution_count": null,
   "metadata": {},
   "outputs": [],
   "source": []
  },
  {
   "cell_type": "code",
   "execution_count": 67,
   "metadata": {},
   "outputs": [
    {
     "name": "stdout",
     "output_type": "stream",
     "text": [
      "CUDA is available\n",
      "NVIDIA GeForce RTX 3050 Laptop GPU\n",
      "2.5.1+cu118\n"
     ]
    }
   ],
   "source": [
    "\n",
    "if torch.cuda.is_available():\n",
    "    print(\"CUDA is available\")\n",
    "device = torch.cuda.current_device()\n",
    "print(torch.cuda.get_device_name(device))\n",
    "print(torch.__version__)"
   ]
  },
  {
   "cell_type": "code",
   "execution_count": null,
   "metadata": {},
   "outputs": [
    {
     "name": "stdout",
     "output_type": "stream",
     "text": [
      "Requirement already satisfied: cupy-cuda11x in c:\\users\\prana\\anaconda3\\envs\\myenvt\\lib\\site-packages (13.3.0)\n",
      "Requirement already satisfied: numpy<2.3,>=1.22 in c:\\users\\prana\\anaconda3\\envs\\myenvt\\lib\\site-packages (from cupy-cuda11x) (1.26.3)\n",
      "Requirement already satisfied: fastrlock>=0.5 in c:\\users\\prana\\anaconda3\\envs\\myenvt\\lib\\site-packages (from cupy-cuda11x) (0.8.3)\n",
      "Note: you may need to restart the kernel to use updated packages.\n"
     ]
    }
   ],
   "source": [
    "#%pip install cupy-cuda11x\n"
   ]
  },
  {
   "cell_type": "code",
   "execution_count": 69,
   "metadata": {},
   "outputs": [],
   "source": [
    "data= pd.read_csv('test.csv')"
   ]
  },
  {
   "cell_type": "code",
   "execution_count": 70,
   "metadata": {},
   "outputs": [
    {
     "data": {
      "text/plain": [
       "(28000, 784)"
      ]
     },
     "execution_count": 70,
     "metadata": {},
     "output_type": "execute_result"
    }
   ],
   "source": [
    "data = np.array(data)\n",
    "#np.random.shuffle(data) #shuffling the data\n",
    "m, n = data.shape\n",
    "m,n"
   ]
  },
  {
   "cell_type": "code",
   "execution_count": 71,
   "metadata": {},
   "outputs": [
    {
     "name": "stdout",
     "output_type": "stream",
     "text": [
      "(784, 28000)\n",
      "(28000,)\n"
     ]
    }
   ],
   "source": [
    "x = data[:, :].T #/255.0  # extracting the pixel value \n",
    "y = data[:, 0]   # extracting the labels in the first column\n",
    "print(x.shape)\n",
    "print(y.shape)"
   ]
  },
  {
   "cell_type": "code",
   "execution_count": 72,
   "metadata": {},
   "outputs": [
    {
     "data": {
      "image/png": "[encoded data removed]",
      "text/plain": [
       "<Figure size 640x480 with 1 Axes>"
      ]
     },
     "metadata": {},
     "output_type": "display_data"
    }
   ],
   "source": [
    "def image(a):\n",
    "    a = np.random.randint(0, m)\n",
    "    plt.imshow(x[:, a].reshape(28, 28), cmap='gray')\n",
    "    plt.title(\"Label : {}\".format(y[a]))\n",
    "    plt.show()\n",
    "#random image along with its label\n",
    "img = image(0)\n"
   ]
  },
  {
   "cell_type": "code",
   "execution_count": 73,
   "metadata": {},
   "outputs": [
    {
     "data": {
      "text/plain": [
       "(10, 28000)"
      ]
     },
     "execution_count": 73,
     "metadata": {},
     "output_type": "execute_result"
    }
   ],
   "source": [
    "#one hot encoding\n",
    "def one_hot(y):\n",
    "    one_hot_y = np.zeros((10, y.size))\n",
    "    for i in range(y.size):\n",
    "        one_hot_y[y[i], i] = 1\n",
    "    return one_hot_y\n",
    "one_hot_y = one_hot(y)\n",
    "one_hot_y.shape"
   ]
  },
  {
   "cell_type": "code",
   "execution_count": 74,
   "metadata": {},
   "outputs": [
    {
     "name": "stdout",
     "output_type": "stream",
     "text": [
      "(10, 784) (10, 10) (10, 28000) (10, 28000)\n"
     ]
    },
    {
     "data": {
      "text/plain": [
       "array([[-1.33221258e+00,  4.62250759e-01, -4.03715764e-01, ...,\n",
       "         2.87024304e-01,  9.68236054e-02, -5.08201530e-01],\n",
       "       [-3.41094706e-01, -5.08231084e-01,  5.53112117e-01, ...,\n",
       "        -1.76042541e+00, -1.24648548e+00, -9.90627322e-04],\n",
       "       [ 1.53079628e+00,  6.01791221e-01, -5.54570000e-01, ...,\n",
       "         5.52340133e-01, -1.49064554e+00,  3.29127146e-01],\n",
       "       ...,\n",
       "       [ 7.45381183e-01, -1.88447805e+00, -8.05438606e-01, ...,\n",
       "        -4.38303069e-01, -3.72469463e-02, -1.09716205e+00],\n",
       "       [-2.39311447e-01, -3.40084914e-01,  6.34014098e-01, ...,\n",
       "        -1.93498389e+00,  4.19386518e-01,  1.87518804e+00],\n",
       "       [ 5.46111536e-01, -2.03055688e-01,  7.68287015e-02, ...,\n",
       "        -5.18160798e-01, -5.71017918e-02, -7.93775799e-01]])"
      ]
     },
     "execution_count": 74,
     "metadata": {},
     "output_type": "execute_result"
    }
   ],
   "source": [
    "#def parameters() :\n",
    "\n",
    "class Parameters:\n",
    "    def __init__(self):\n",
    "        self.W1 = np.random.randn(10, 784)# -0.5 #0.01  # adding bias to the weights\n",
    "        self.W2 = np.random.randn(10,10) #- 0.5#0.01\n",
    "        self.b1 = np.zeros((10,m)) #- 0.5\n",
    "        self.b2 = np.zeros((10, m)) #- 0.5  \n",
    "        self.alpha  = 0.1    # learning rate\n",
    "params = Parameters()\n",
    "W1 = params.W1\n",
    "W2 = params.W2\n",
    "b1 = params.b1\n",
    "b2 = params.b2\n",
    "alpha = params.alpha\n",
    "        \n",
    "\n",
    "print(W1.shape, W2.shape, b1.shape, b2.shape)\n",
    "x.shape, one_hot_y.shape\n",
    "\n",
    "W1"
   ]
  },
  {
   "cell_type": "code",
   "execution_count": 75,
   "metadata": {},
   "outputs": [],
   "source": [
    "def RELU(L):\n",
    "    return np.maximum(0, L)#"
   ]
  },
  {
   "cell_type": "code",
   "execution_count": 76,
   "metadata": {},
   "outputs": [],
   "source": [
    "def softmax(x):\n",
    "    x = x - np.max(x)  # Numerical stability\n",
    "    softmax_output = np.exp(x) / np.sum(np.exp(x), axis=0, keepdims=True)"
   ]
  },
  {
   "cell_type": "code",
   "execution_count": 77,
   "metadata": {},
   "outputs": [],
   "source": [
    "def der_Relu(x):\n",
    "    x[x<=0] = 0\n",
    "    x[x>0] /= 1\n",
    "    return x"
   ]
  },
  {
   "cell_type": "code",
   "execution_count": 78,
   "metadata": {},
   "outputs": [
    {
     "name": "stderr",
     "output_type": "stream",
     "text": [
      "C:\\Users\\prana\\AppData\\Local\\Temp\\ipykernel_25988\\2819944920.py:3: RuntimeWarning: invalid value encountered in divide\n",
      "  softmax_output = np.exp(x) / np.sum(np.exp(x), axis=0, keepdims=True)\n"
     ]
    }
   ],
   "source": [
    "def for_pass(W1, W2, b1, b2, x):\n",
    "    L1 = np.dot(W1, x) + b1 #first layer\n",
    "    A1 = RELU(L1) #activation function\n",
    "    L2 = np.dot(W2, A1) + b2 #second layer\n",
    "    A2 = softmax(L2) #activation function\n",
    "    return L1, A1, L2, A2\n",
    "\n",
    "\n",
    "\n",
    "L1, A1, L2, A2 = for_pass(W1, W2, b1, b2, x)\n"
   ]
  },
  {
   "cell_type": "code",
   "execution_count": 79,
   "metadata": {},
   "outputs": [],
   "source": [
    "def back_pass(L2, A2, one_hot_y, W2, A1, x, L1):\n",
    "     #error in the second layer\n",
    "    dL2 = A2 - one_hot_y  # error in the second layer\n",
    "    dW2 = np.dot(dL2, A1.T)/m #gradient of the weights in the second layer\n",
    "    db2 = np.sum(dL2, axis=1, keepdims=True)/m #gradient of the bias in the second layer\n",
    "    dL1 = np.dot(W2.T, dL2) * der_Relu(L1) #error in the first layer\n",
    "    dW1 = np.dot(dL1, x.T)/m #gradient of the weights in the first layer\n",
    "    db1 = np.sum(dL1, axis=1, keepdims=True)/m #gradient of the bias in the first layer\n",
    "    return dL2, dW2, db2, dL1, dW1, db1"
   ]
  },
  {
   "cell_type": "code",
   "execution_count": 80,
   "metadata": {},
   "outputs": [],
   "source": [
    "def weight_update(W1, W2, b1, b2, dW1, dW2, db1, db2, alpha) :\n",
    "    #alpha = 0.01\n",
    "    W1 = W1 - alpha*dW1    #aplha is the learning rate\n",
    "    W2 = W2 - alpha*dW2\n",
    "    b1 = b1 - alpha*db1\n",
    "    b2 = b2 - alpha*db2\n",
    "    return W1, W2, b1, b2"
   ]
  },
  {
   "cell_type": "code",
   "execution_count": 81,
   "metadata": {},
   "outputs": [],
   "source": [
    "def get_predictions(A2) :\n",
    "    return np.argmax(A2, 0) #returns the index of the maximum value in the array"
   ]
  },
  {
   "cell_type": "code",
   "execution_count": 82,
   "metadata": {},
   "outputs": [],
   "source": [
    "def compute_loss(A2, one_hot_y):\n",
    "    m = one_hot_y.shape[1]  # Number of examples\n",
    "    # Cross-entropy loss\n",
    "    loss = -np.sum(one_hot_y * np.log(A2 + 1e-8)) / m  # Adding epsilon to avoid log(0)\n",
    "    return loss"
   ]
  },
  {
   "cell_type": "code",
   "execution_count": 83,
   "metadata": {},
   "outputs": [],
   "source": [
    "def get_accuracy(predictions, y):\n",
    "    return (np.sum(predictions == y) / y.size ) * 100 # returns the accuracy of the model\n"
   ]
  },
  {
   "cell_type": "code",
   "execution_count": 84,
   "metadata": {},
   "outputs": [
    {
     "name": "stdout",
     "output_type": "stream",
     "text": [
      "Iteration 0: Loss = 18.089492827478505, Accuracy = 1.7714285714285714%\n",
      "Iteration 200: Loss = -9.999999889225291e-09, Accuracy = 100.0%\n",
      "Iteration 400: Loss = -9.999999889225291e-09, Accuracy = 100.0%\n",
      "Iteration 600: Loss = -9.999999889225291e-09, Accuracy = 100.0%\n",
      "Iteration 800: Loss = -9.999999889225291e-09, Accuracy = 100.0%\n"
     ]
    },
    {
     "data": {
      "image/png": "[encoded data removed]",
      "text/plain": [
       "<Figure size 640x480 with 1 Axes>"
      ]
     },
     "metadata": {},
     "output_type": "display_data"
    }
   ],
   "source": [
    "import cupy as cp\n",
    "\n",
    "\n",
    "# Convert numpy arrays to cupy arrays\n",
    "x_cp = cp.array(x)\n",
    "one_hot_y_cp = cp.array(one_hot_y)\n",
    "W1_cp = cp.array(W1)\n",
    "W2_cp = cp.array(W2)\n",
    "b1_cp = cp.array(b1)\n",
    "b2_cp = cp.array(b2)\n",
    "\n",
    "# Update functions to use cupy arrays\n",
    "def for_pass_cp(W1, W2, b1, b2, x):\n",
    "    L1 = cp.dot(W1, x) + b1\n",
    "    A1 = cp.maximum(0, L1)  # RELU\n",
    "    L2 = cp.dot(W2, A1) + b2\n",
    "    A2 = cp.exp(L2 - cp.max(L2, axis=0, keepdims=True)) / cp.sum(cp.exp(L2 - cp.max(L2, axis=0, keepdims=True)), axis=0, keepdims=True)  # softmax\n",
    "    return L1, A1, L2, A2\n",
    "\n",
    "def back_pass_cp(L2, A2, one_hot_y, W2, A1, x, L1):\n",
    "    dL2 = A2 - one_hot_y\n",
    "    dW2 = cp.dot(dL2, A1.T) / m\n",
    "    db2 = cp.sum(dL2, axis=1, keepdims=True) / m\n",
    "    dL1 = cp.dot(W2.T, dL2) * (L1 > 0)\n",
    "    dW1 = cp.dot(dL1, x.T) / m\n",
    "    db1 = cp.sum(dL1, axis=1, keepdims=True) / m\n",
    "    return dL2, dW2, db2, dL1, dW1, db1\n",
    "\n",
    "def weight_update_cp(W1, W2, b1, b2, dW1, dW2, db1, db2, alpha):\n",
    "    W1 -= alpha * dW1\n",
    "    W2 -= alpha * dW2\n",
    "    b1 -= alpha * db1\n",
    "    b2 -= alpha * db2\n",
    "    return W1, W2, b1, b2\n",
    "\n",
    "def gradient_descent_cp(x, one_hot_y, alpha, iterations):\n",
    "    W1 = cp.array(params.W1)\n",
    "    W2 = cp.array(params.W2)\n",
    "    b1 = cp.array(params.b1)\n",
    "    b2 = cp.array(params.b2)\n",
    "    losses = []\n",
    "    for i in range(iterations):\n",
    "        L1, A1, L2, A2 = for_pass_cp(W1, W2, b1, b2, x)\n",
    "        dL2, dW2, db2, dL1, dW1, db1 = back_pass_cp(L2, A2, one_hot_y, W2, A1, x, L1)\n",
    "        W1, W2, b1, b2 = weight_update_cp(W1, W2, b1, b2, dW1, dW2, db1, db2, alpha)\n",
    "        loss = -cp.sum(one_hot_y * cp.log(A2 + 1e-8)) / m\n",
    "        losses.append(cp.asnumpy(loss))\n",
    "        if i % 200 == 0:\n",
    "            predictions = cp.argmax(A2, axis=0)\n",
    "            predictions_cpu = cp.asnumpy(predictions)\n",
    "            accuracy = np.mean(predictions_cpu == y)\n",
    "            print(f\"Iteration {i}: Loss = {loss}, Accuracy = {accuracy * 100}%\")\n",
    "    return W1, W2, b1, b2, A2, losses\n",
    "\n",
    "# Run gradient descent with cupy\n",
    "W1_cp, W2_cp, b1_cp, b2_cp, A2_cp, losses_cp = gradient_descent_cp(x_cp, one_hot_y_cp, 0.01, 1000)\n",
    "\n",
    "# Convert results back to numpy arrays\n",
    "W1 = cp.asnumpy(W1_cp)\n",
    "W2 = cp.asnumpy(W2_cp)\n",
    "b1 = cp.asnumpy(b1_cp)\n",
    "b2 = cp.asnumpy(b2_cp)\n",
    "A2 = cp.asnumpy(A2_cp)\n",
    "\n",
    "# Plot the loss\n",
    "plt.plot(losses_cp)\n",
    "plt.xlabel('Iterations')\n",
    "plt.ylabel('Loss')\n",
    "plt.title('Loss function')\n",
    "plt.show()"
   ]
  },
  {
   "cell_type": "code",
   "execution_count": 87,
   "metadata": {},
   "outputs": [],
   "source": [
    "test_data = pd.read_csv('test.csv')\n",
    "test_data = np.array(test_data)\n",
    "x_test = data[:, :].T #/255.0  # extracting the pixel value \n",
    "y_test = data[:, 0]   # extracting the labels in the first column\n"
   ]
  },
  {
   "cell_type": "code",
   "execution_count": 88,
   "metadata": {},
   "outputs": [],
   "source": [
    "#testin the model   \n",
    "def test_model(W1, W2, b1, b2, x_test, y_test):\n",
    "    L1, A1, L2, A2 = for_pass(W1, W2, b1, b2, x)\n",
    "    predictions = get_predictions(A2)\n",
    "    accuracy = get_accuracy(predictions, y)\n",
    "    return accuracy"
   ]
  },
  {
   "cell_type": "code",
   "execution_count": 89,
   "metadata": {},
   "outputs": [
    {
     "name": "stdout",
     "output_type": "stream",
     "text": [
      "Accuracy on test set = 100.0%\n"
     ]
    },
    {
     "name": "stderr",
     "output_type": "stream",
     "text": [
      "C:\\Users\\prana\\AppData\\Local\\Temp\\ipykernel_25988\\2819944920.py:3: RuntimeWarning: invalid value encountered in divide\n",
      "  softmax_output = np.exp(x) / np.sum(np.exp(x), axis=0, keepdims=True)\n"
     ]
    }
   ],
   "source": [
    "# Test the model\n",
    "accuracy = test_model(W1, W2, b1, b2, x_test, y_test)\n",
    "print(f\"Accuracy on test set = {accuracy}%\")\n"
   ]
  },
  {
   "cell_type": "code",
   "execution_count": 91,
   "metadata": {},
   "outputs": [
    {
     "name": "stdout",
     "output_type": "stream",
     "text": [
      "Note: you may need to restart the kernel to use updated packages.\n"
     ]
    },
    {
     "name": "stderr",
     "output_type": "stream",
     "text": [
      "ERROR: Could not find a version that satisfies the requirement cv2 (from versions: none)\n",
      "ERROR: No matching distribution found for cv2\n"
     ]
    }
   ],
   "source": [
    "%pip install cv2"
   ]
  },
  {
   "cell_type": "code",
   "execution_count": 92,
   "metadata": {},
   "outputs": [
    {
     "ename": "ModuleNotFoundError",
     "evalue": "No module named 'cv2'",
     "output_type": "error",
     "traceback": [
      "\u001b[1;31m---------------------------------------------------------------------------\u001b[0m",
      "\u001b[1;31mModuleNotFoundError\u001b[0m                       Traceback (most recent call last)",
      "Cell \u001b[1;32mIn[92], line 1\u001b[0m\n\u001b[1;32m----> 1\u001b[0m \u001b[38;5;28;01mimport\u001b[39;00m \u001b[38;5;21;01mcv2\u001b[39;00m\n\u001b[0;32m      3\u001b[0m \u001b[38;5;28;01mdef\u001b[39;00m \u001b[38;5;21midentify_image\u001b[39m(img_path):\n\u001b[0;32m      4\u001b[0m     \u001b[38;5;66;03m# Load image in grayscale\u001b[39;00m\n\u001b[0;32m      5\u001b[0m     img \u001b[38;5;241m=\u001b[39m cv2\u001b[38;5;241m.\u001b[39mimread(img_path, cv2\u001b[38;5;241m.\u001b[39mIMREAD_GRAYSCALE)\n",
      "\u001b[1;31mModuleNotFoundError\u001b[0m: No module named 'cv2'"
     ]
    }
   ],
   "source": [
    "import cv2\n",
    "\n",
    "def identify_image(img_path):\n",
    "    # Load image in grayscale\n",
    "    img = cv2.imread(img_path, cv2.IMREAD_GRAYSCALE)\n",
    "    # Resize to 28x28\n",
    "    img = cv2.resize(img, (28, 28))\n",
    "    # Flatten and reshape for the model\n",
    "    img_array = img.flatten().reshape(784, 1)\n",
    "    # Forward pass\n",
    "    L1_temp, A1_temp, L2_temp, A2_temp = for_pass(W1, W2, b1, b2, img_array)\n",
    "    prediction = get_predictions(A2_temp)\n",
    "    print(\"Identified class:\", prediction[0])"
   ]
  }
 ],
 "metadata": {
  "kernelspec": {
   "display_name": "myenvt",
   "language": "python",
   "name": "python3"
  },
  "language_info": {
   "codemirror_mode": {
    "name": "ipython",
    "version": 3
   },
   "file_extension": ".py",
   "mimetype": "text/x-python",
   "name": "python",
   "nbconvert_exporter": "python",
   "pygments_lexer": "ipython3",
   "version": "3.12.7"
  }
 },
 "nbformat": 4,
 "nbformat_minor": 2
}
